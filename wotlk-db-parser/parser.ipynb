{
 "cells": [
  {
   "cell_type": "code",
   "execution_count": null,
   "metadata": {},
   "outputs": [],
   "source": [
    "import requests\n",
    "\n",
    "url = 'https://wotlkdb.com/?skill=197'\n",
    "response = requests.get(url)\n",
    "with open('index.html', 'wb') as f:\n",
    "    f.write(response.content)\n",
    "    print(response.text)"
   ]
  },
  {
   "cell_type": "code",
   "execution_count": 25,
   "metadata": {},
   "outputs": [
    {
     "name": "stdout",
     "output_type": "stream",
     "text": [
      "ИмяРеагентИсточникУровень навыка\n"
     ]
    }
   ],
   "source": [
    "from bs4 import BeautifulSoup\n",
    "\n",
    "with open('index.html', 'r', encoding='utf-8') as f:\n",
    "        html = f.read()\n",
    "        \n",
    "    \n",
    "# table = soup.find('table', attrs={'class': 'listview-mode-default'})\n",
    "table = html.split('<table class=\"listview-mode-default\">')[1].split('</table>')[0].strip()\n",
    "with open('table.html', 'w', encoding='utf-8') as f:\n",
    "        f.write(table)\n",
    "        \n",
    "soup = BeautifulSoup(table, 'lxml')\n",
    "\n",
    "thead = soup.find('thead')\n",
    "trs = soup.find_all('tr')\n",
    "print(thead.text)\n",
    "# print(trs)\n",
    "# print(table)"
   ]
  },
  {
   "cell_type": "code",
   "execution_count": 110,
   "metadata": {},
   "outputs": [
    {
     "name": "stdout",
     "output_type": "stream",
     "text": [
      "inv_fabric_spellweave.jpg,inv_misc_thread_01.jpg\n",
      "inv_fabric_ebonweave.jpg,inv_misc_thread_01.jpg\n",
      "inv_misc_thread_01.jpg\n",
      "inv_fabric_moonshroud.jpg,inv_misc_thread_01.jpg\n",
      "inv_misc_thread_01.jpg\n",
      "inv_fabric_frostweave_imbuedbolt.jpg,inv_jewelcrafting_gem_02.jpg,inv_potion_11.jpg,inv_potion_12.jpg,inv_misc_web_01.jpg\n",
      "inv_fabric_soulcloth_bolt.jpg,spell_shadow_antimagicshell.jpg\n",
      "inv_fabric_moonshroud.jpg,inv_fabric_spellweave.jpg,inv_fabric_ebonweave.jpg,spell_frost_frozencore.jpg\n",
      "inv_fabric_felcloth_ebon.jpg,inv_elemental_primal_water.jpg,spell_nature_web.jpg\n",
      "inv_fabric_felcloth_ebon.jpg,inv_elemental_primal_water.jpg,spell_nature_web.jpg\n",
      "inv_fabric_felcloth_ebon.jpg,inv_elemental_primal_water.jpg,spell_nature_web.jpg\n",
      "spell_shadow_antimagicshell.jpg,inv_elemental_primal_life.jpg,inv_elemental_primal_nether.jpg\n",
      "inv_fabric_ebonweave.jpg,inv_fabric_frostweave_imbuedbolt.jpg,inv_misc_thread_01.jpg,spell_frost_frozencore.jpg\n",
      "inv_fabric_ebonweave.jpg,inv_fabric_frostweave_imbuedbolt.jpg,inv_misc_thread_01.jpg,spell_frost_frozencore.jpg\n",
      "inv_fabric_moonrag_primal.jpg,spell_nature_lightningoverload.jpg,inv_elemental_primal_nether.jpg\n",
      "inv_fabric_netherweave_bolt_imbued.jpg,spell_nature_lightningoverload.jpg,inv_elemental_primal_nether.jpg\n",
      "inv_fabric_spellfire.jpg,spell_nature_lightningoverload.jpg,inv_elemental_primal_nether.jpg\n",
      "inv_fabric_moonshroud.jpg,spell_holy_rune.jpg\n",
      "inv_fabric_moonshroud.jpg,spell_holy_rune.jpg\n",
      "inv_fabric_moonshroud.jpg,inv_jewelcrafting_gem_36.jpg,spell_holy_rune.jpg\n",
      "inv_fabric_moonshroud.jpg,inv_jewelcrafting_gem_36.jpg,spell_holy_rune.jpg\n",
      "inv_fabric_spellweave.jpg,inv_fabric_ebonweave.jpg,inv_misc_runedorb_01.jpg\n",
      "inv_fabric_frostweave_imbuedbolt.jpg,inv_elemental_eternal_fire.jpg,inv_elemental_eternal_water.jpg,inv_misc_thread_01.jpg,spell_frost_frozencore.jpg\n",
      "inv_misc_rune_09.jpg,inv_fabric_purplefire_02.jpg,spell_nature_acid_01.jpg,spell_nature_web.jpg\n",
      "inv_misc_rune_09.jpg,inv_fabric_purplefire_02.jpg,spell_nature_acid_01.jpg,spell_nature_web.jpg\n",
      "inv_fabric_frostweave_imbuedbolt.jpg,inv_elemental_eternal_fire.jpg,inv_elemental_eternal_water.jpg,inv_misc_thread_01.jpg,spell_frost_frozencore.jpg\n",
      "inv_fabric_frostweave_imbuedbolt.jpg,inv_elemental_eternal_fire.jpg,inv_elemental_eternal_water.jpg,inv_misc_thread_01.jpg,spell_frost_frozencore.jpg\n",
      "inv_misc_rune_09.jpg,inv_fabric_purplefire_02.jpg,spell_nature_acid_01.jpg,spell_nature_web.jpg\n",
      "inv_misc_rune_09.jpg,inv_fabric_purplefire_02.jpg,spell_nature_acid_01.jpg,spell_nature_web.jpg\n",
      "inv_fabric_netherweave_bolt_imbued.jpg,inv_fabric_moonrag_primal.jpg,inv_elemental_primal_life.jpg,spell_shadow_demonictactics.jpg\n",
      "inv_fabric_netherweave_bolt_imbued.jpg,inv_fabric_spellfire.jpg,inv_elemental_primal_mana.jpg,spell_shadow_demonictactics.jpg\n",
      "inv_fabric_moonrag_primal.jpg,inv_elemental_primal_earth.jpg,inv_elemental_primal_nether.jpg\n",
      "inv_fabric_moonrag_primal.jpg,spell_nature_web.jpg,inv_elemental_primal_life.jpg\n",
      "inv_fabric_soulcloth_bolt.jpg,spell_shadow_antimagicshell.jpg\n",
      "inv_fabric_moonrag_01.jpg,spell_fire_flamebolt.jpg,spell_fire_volcano.jpg,inv_misc_rune_05.jpg,spell_shadow_antimagicshell.jpg\n",
      "inv_fabric_spellweave.jpg,inv_jewelcrafting_gem_34.jpg,inv_jewelcrafting_gem_32.jpg,inv_jewelcrafting_gem_35.jpg,spell_holy_rune.jpg\n",
      "inv_fabric_spellweave.jpg,inv_jewelcrafting_gem_34.jpg,inv_jewelcrafting_gem_32.jpg,inv_jewelcrafting_gem_35.jpg,spell_holy_rune.jpg\n",
      "inv_fabric_netherweave_bolt_imbued.jpg,inv_fabric_spellfire.jpg,inv_elemental_primal_mana.jpg,spell_shadow_demonictactics.jpg\n",
      "spell_shadow_demonictactics.jpg,inv_enchant_voidcrystal.jpg,inv_elemental_primal_life.jpg,inv_elemental_primal_shadow.jpg,inv_fabric_netherweave_bolt_imbued.jpg\n",
      "inv_fabric_purplefire_02.jpg,inv_fabric_moonrag_01.jpg,inv_misc_gem_pearl_03.jpg,inv_misc_gem_pearl_04.jpg,inv_poison_mindnumbing.jpg,spell_shadow_antimagicshell.jpg\n",
      "inv_fabric_purplefire_02.jpg,inv_misc_rune_04.jpg,inv_fabric_felrag.jpg,spell_fire_volcano.jpg,spell_shadow_shadetruesight.jpg,spell_shadow_antimagicshell.jpg\n",
      "inv_fabric_purplefire_02.jpg,spell_fire_volcano.jpg,spell_nature_earthbind.jpg,spell_nature_strengthofearthtotem02.jpg,spell_nature_acid_01.jpg,spell_shadow_antimagicshell.jpg\n",
      "inv_fabric_moonrag_primal.jpg,inv_elemental_primal_nether.jpg\n",
      "inv_fabric_moonrag_primal.jpg,inv_elemental_primal_mana.jpg,spell_nature_web.jpg\n",
      "inv_fabric_spellweave.jpg,inv_fabric_frostweave_imbuedbolt.jpg,inv_misc_thread_01.jpg,spell_frost_frozencore.jpg\n",
      "inv_fabric_moonshroud.jpg,inv_fabric_frostweave_imbuedbolt.jpg,inv_misc_thread_01.jpg,spell_frost_frozencore.jpg\n",
      "inv_fabric_spellfire.jpg,inv_elemental_primal_fire.jpg,spell_nature_web.jpg\n",
      "inv_fabric_ebonweave.jpg,inv_fabric_spellweave.jpg,inv_enchant_dreamshard_02.jpg,spell_holy_rune.jpg\n",
      "inv_fabric_ebonweave.jpg,inv_fabric_spellweave.jpg,inv_enchant_dreamshard_02.jpg,spell_holy_rune.jpg\n",
      "inv_fabric_moonrag_01.jpg,spell_fire_flamebolt.jpg,spell_nature_earthquake.jpg,spell_fire_volcano.jpg,spell_nature_web.jpg\n"
     ]
    }
   ],
   "source": [
    "import csv\n",
    "\n",
    "with open('data.csv', 'w', encoding='cp1251', newline='') as f:\n",
    "    writer = csv.writer(f, delimiter=';')\n",
    "    \n",
    "    ths = thead.find_all('th')\n",
    "    \n",
    "    th_textes = [th.text for th in ths]\n",
    "    # print(th_textes[0], th_textes[1], th_textes[2], th_textes[3])\n",
    "    writer.writerow(th_textes)\n",
    "    for tr in trs:\n",
    "        try:\n",
    "            tds = tr.find_all('td')\n",
    "            tds_textes = [td.text for td in tds]\n",
    "            tds_textes[2] = tds[2].find_all('ins')\n",
    "            tds_textes[2] = [ins.get('style').split('\\\"')[1].split('\\\"')[0].split('/')[-1] for ins in tds_textes[2]]\n",
    "            tds_textes[2] = ','.join(tds_textes[2])\n",
    "            writer.writerow(tds_textes[1:4])\n",
    "            print(tds_textes[2])\n",
    "        except Exception as e:\n",
    "            # print(e)\n",
    "            continue"
   ]
  }
 ],
 "metadata": {
  "kernelspec": {
   "display_name": "Python 3.10.5 64-bit",
   "language": "python",
   "name": "python3"
  },
  "language_info": {
   "codemirror_mode": {
    "name": "ipython",
    "version": 3
   },
   "file_extension": ".py",
   "mimetype": "text/x-python",
   "name": "python",
   "nbconvert_exporter": "python",
   "pygments_lexer": "ipython3",
   "version": "3.10.5"
  },
  "orig_nbformat": 4,
  "vscode": {
   "interpreter": {
    "hash": "ec37068f460b6b7cc8f9068c2cafbf94f5660ee969607ff2f440e4a9ddfd9795"
   }
  }
 },
 "nbformat": 4,
 "nbformat_minor": 2
}
